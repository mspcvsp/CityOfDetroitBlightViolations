{
 "cells": [
  {
   "cell_type": "markdown",
   "metadata": {},
   "source": [
    "## Introduction\n",
    "Erwin de Leon and Joeseph Schilling introduce their April 2017 Urban Instute research report [\"Urban Blight and Public Health: Addressing the Impact of Substandard Housing, Abandoned Buildings, and Vacant Lots\"](https://www.urban.org/research/publication/urban-blight-and-public-health) with the following statement: \"We spend more than 2/3rds of our time where we live; thus, housing and neighborhood conditions affect our individual and family's well-being\". They also discuss the impact of poor economic conditions that result in \"increasing inventories of vacant homes and abandoned buildings\". For example, the authors of this report cite Detroit's Blight Removal Task Force's 2014 \"strategic plan to address more than 80,000 derelict structures and vacant lots\".\n",
    "\n",
    "This Jupyter notebook illustrates the application of the Python programming language to address three questions regarding the [City of Detroit's Blight Violation Notices (BVN) public domain dataset](https://data.detroitmi.gov/Property-Parcels/Blight-Violations/ti6p-wcg4):  \n",
    "1. Is the number of blight violations per month increasing, decreasing, or staying constant over time?  \n",
    "2. Is the number of blight violations in collection increasing, decreasing, or staying constant over time?  \n",
    "3. For 2017, are blight violation notices clustered as a function of latitute and longitude?  "
   ]
  },
  {
   "cell_type": "markdown",
   "metadata": {},
   "source": [
    "## Import Dependencies"
   ]
  },
  {
   "cell_type": "code",
   "execution_count": 407,
   "metadata": {},
   "outputs": [
    {
     "name": "stdout",
     "output_type": "stream",
     "text": [
      "The pycodestyle_magic extension is already loaded. To reload it, use:\n",
      "  %reload_ext pycodestyle_magic\n"
     ]
    }
   ],
   "source": [
    "import numpy as np\n",
    "import pandas as pd\n",
    "from csv import DictReader\n",
    "import os\n",
    "import urllib\n",
    "import re\n",
    "import matplotlib.pyplot as plt\n",
    "import seaborn as sns\n",
    "from tqdm import tqdm\n",
    "from itertools import zip_longest\n",
    "\n",
    "%load_ext pycodestyle_magic\n",
    "%matplotlib inline"
   ]
  },
  {
   "cell_type": "markdown",
   "metadata": {},
   "source": [
    "## Prepare Data  \n",
    "-[Download *.csv from URL](https://stackoverflow.com/questions/41992223/download-csv-from-web-service-with-python-3)  \n",
    "-[Verify PEP8 in IPython notebook](https://stackoverflow.com/questions/26126853/verifying-pep8-in-ipython-notebook-code)  \n",
    "-[Tidy Data](https://www.jstatsoft.org/article/view/v059i10)  \n",
    "-[How to read file n lines at a time in Python](https://stackoverflow.com/questions/5832856/how-to-read-file-n-lines-at-a-time-in-python)  \n",
    "-[Delete last item in a list](https://stackoverflow.com/questions/18169965/how-to-delete-last-item-in-list)  \n",
    "-[Remove comma from the end of a line](https://stackoverflow.com/questions/2774558/how-do-i-strip-the-comma-from-the-end-of-a-string-in-python)  \n",
    "-[Appending row to Pandas DataFrame can be slow](https://pandas.pydata.org/pandas-docs/stable/generated/pandas.DataFrame.append.html)  \n",
    "-[DictReader parse string](https://stackoverflow.com/questions/31658115/python-csv-dictreader-parse-string)  \n",
    "-[Pandas replace nan with blank empty string](https://stackoverflow.com/questions/26837998/pandas-replace-nan-with-blank-empty-string)  \n"
   ]
  },
  {
   "cell_type": "code",
   "execution_count": 241,
   "metadata": {},
   "outputs": [],
   "source": [
    "#%%pycodestyle\n",
    "csv_url = \"https://data.detroitmi.gov/api/views/ti6p-wcg4\" +\\\n",
    "          \"/rows.csv?accessType=DOWNLOAD\"\n",
    "\n",
    "data_dir = './Data'\n",
    "csv_file = os.path.join(data_dir, 'rows.csv')\n",
    "\n",
    "if not os.path.exists(data_dir):\n",
    "    os.mkdir(data_dir)\n",
    "    urllib.request.urlretrieve(csv_url, csv_file)"
   ]
  },
  {
   "cell_type": "code",
   "execution_count": 417,
   "metadata": {},
   "outputs": [],
   "source": [
    "#%%pycodestyle\n",
    "def format_columns(h_file):\n",
    "    \"\"\"\n",
    "    Formats the columns of the City of Detroit Blight Violation Notices\n",
    "    (BVN) public domain dataset\n",
    "\n",
    "    INPUT:\n",
    "        h_file: BVN *.csv file handle\n",
    "\n",
    "    OUTPUT:\n",
    "        columns: formatted list of BVN *.csv file columns\n",
    "    \"\"\"\n",
    "    columns = h_file.readline().strip()\n",
    "\n",
    "    columns = [elem.lower() for elem in columns.split(',')]\n",
    "\n",
    "    columns = [re.sub(\"[\\\\s\\\\(\\\\)-]\", '', elem) for elem in columns]\n",
    "\n",
    "    del columns[-1]\n",
    "\n",
    "    return columns\n",
    "\n",
    "\n",
    "def parse_string(string_value):\n",
    "    \"\"\"\n",
    "    If the input string value is empty, returns \"NULL\". Otherwise,\n",
    "    returns the input string value\n",
    "\n",
    "    INPUT:\n",
    "        string_value: String value that may be empty\n",
    "\n",
    "    RETURNS:\n",
    "        formatted_string_value: \"NULL\" if the input string value\n",
    "            is empty. Otherwise, is set to the input string value\n",
    "    \"\"\"\n",
    "    if string_value == '':\n",
    "        return \"NULL\"\n",
    "    else:\n",
    "        return string_value\n",
    "\n",
    "\n",
    "def parse_int(int_string):\n",
    "    \"\"\"Parses an integer value stored in a string\n",
    "\n",
    "    INPUT:\n",
    "        int_string: String that stores an integer value\n",
    "\n",
    "    OUTPUT:\n",
    "        int_value: Integer value stored in a string\"\"\"\n",
    "    try:\n",
    "        int_value = int(int_string)\n",
    "    except ValueError:\n",
    "        int_value = np.nan\n",
    "\n",
    "    return int_value\n",
    "\n",
    "\n",
    "def parse_float(float_string):\n",
    "    \"\"\"Parses a floating point value stored in a string\n",
    "\n",
    "    INPUT:\n",
    "        float_string: String that stores a floating point value\n",
    "\n",
    "    OUTPUT:\n",
    "        float_value: Floating point value stored in a string\"\"\"\n",
    "    try:\n",
    "        float_value = float(float_string)\n",
    "    except ValueError:\n",
    "        float_value = np.nan\n",
    "\n",
    "    return float_value\n",
    "\n",
    "\n",
    "class RowFormatter(object):\n",
    "    \"\"\"\n",
    "    Defines the format of a City of Detroit Blight Violation Notices\n",
    "    dataset row\n",
    "    \"\"\"\n",
    "\n",
    "    def __init__(self):\n",
    "        \"\"\"BVN dataset row formatter class object constructor\n",
    "\n",
    "        INPUT:\n",
    "            self: RowFormatter class object reference\n",
    "\n",
    "        OUTPUT:\n",
    "            self: RowFormatter class object reference\n",
    "        \"\"\"\n",
    "        self.conversion =\\\n",
    "            {'ticketid': lambda x: parse_int(x),\n",
    "             'ticketnumber': lambda x: parse_string(x),\n",
    "             'agencyname': lambda x: parse_string(x),\n",
    "             'inspectorname': lambda x: parse_string(x),\n",
    "             'violatorname': lambda x: parse_string(x),\n",
    "             'violatorid': lambda x: parse_int(x),\n",
    "             'violationstreetnumber':\n",
    "             lambda x: parse_int(x),\n",
    "             'violationstreetname':\n",
    "             lambda x: parse_string(x),\n",
    "             'violationzipcode':\n",
    "             lambda x: parse_int(x),\n",
    "             'mailingaddressstreetnumber':\n",
    "             lambda x: parse_int(x),\n",
    "             'mailingaddressstreetname':\n",
    "             lambda x: parse_string(x),\n",
    "             'mailingaddresscity':\n",
    "             lambda x: parse_string(x),\n",
    "             'mailingaddressstate':\n",
    "             lambda x: parse_string(x),\n",
    "             'mailingaddresszipcode':\n",
    "             lambda x: parse_int(x),\n",
    "             'mailingaddressnonusacode':\n",
    "             lambda x: parse_int(x),\n",
    "             'mailingaddresscountry':\n",
    "             lambda x: parse_string(x),\n",
    "             'violationdate': lambda x: parse_string(x),\n",
    "             'ticketissuedtime': lambda x: parse_string(x),\n",
    "             'hearingdate': lambda x: parse_string(x),\n",
    "             'hearingtime': lambda x: parse_string(x),\n",
    "             'violationcode': lambda x: parse_string(x),\n",
    "             'violationdescription':\n",
    "             lambda x: parse_string(x),\n",
    "             'disposition': lambda x: parse_string(x),\n",
    "             'fineamount': lambda x: parse_float(x),\n",
    "             'adminfee': lambda x: parse_float(x),\n",
    "             'statefee': lambda x: parse_float(x),\n",
    "             'latefee': lambda x: parse_float(x),\n",
    "             'discountamount': lambda x: parse_float(x),\n",
    "             'cleanupcost': lambda x: parse_float(x),\n",
    "             'judgmentamounttotaldue':\n",
    "             lambda x: parse_float(x),\n",
    "             'paymentamountsumofallpayments':\n",
    "             lambda x: parse_float(x),\n",
    "             'balancedue': lambda x: parse_float(x),\n",
    "             'paymentdatemostrecent':\n",
    "             lambda x: parse_string(x),\n",
    "             'paymentstatus':\n",
    "             lambda x: parse_string(x),\n",
    "             'collectionstatus': lambda x: parse_string(x),\n",
    "             'violationaddress': lambda x: parse_string(x),\n",
    "             'violationparcelid': lambda x: parse_string(x),\n",
    "             'violationlatitude': lambda x: parse_float(x),\n",
    "             'violationlongitude': lambda x: parse_float(x)}\n",
    "\n",
    "    def format_row(self,\n",
    "                   row):\n",
    "        \"\"\"\n",
    "        Returns an ordered dictonary that stores a formatted\n",
    "        BVN datset row\n",
    "\n",
    "        INPUT:\n",
    "            self: RowFormatter class reference\n",
    "\n",
    "            row: String that stores a BVN dataset row\n",
    "\n",
    "        OUTPUT:\n",
    "            row_dict: Ordered dictonary that stores a formatted\n",
    "                      BVN datset row\n",
    "        \"\"\"\n",
    "        reader =\\\n",
    "            DictReader([row],\n",
    "                       fieldnames=self.conversion.keys())\n",
    "\n",
    "        try:\n",
    "            row_dict = reader.__next__()\n",
    "\n",
    "            for key in list(row_dict.keys()):\n",
    "                row_dict[key] = self.conversion[key](row_dict[key])\n",
    "        except TypeError:\n",
    "            row_dict = None\n",
    "\n",
    "        return row_dict\n",
    "\n",
    "\n",
    "def initialize_bvn_df(bvn_csv_file):\n",
    "    \"\"\"\n",
    "    Formats City of Detroit Blight Violation Notices (BVN) and\n",
    "    stores them in a Pandas DataFrame\n",
    "\n",
    "    INPUT:\n",
    "        bvn_csv_file: Full path to a City of Detroit (BVN)\n",
    "                      *.csv file\n",
    "\n",
    "    OUTPUT:\n",
    "        bvn_df: Pandas DataFrame that stores City of Detroit\n",
    "                Blight Violation Notices\n",
    "    \"\"\"\n",
    "    with open(bvn_csv_file) as h_file:\n",
    "        formatter_obj = RowFormatter()\n",
    "\n",
    "        columns = format_columns(h_file)\n",
    "\n",
    "        pattern_obj =\\\n",
    "            re.compile('^[a-z\"\\\\s]*\\\\([0-9\\\\.-]+, [0-9\\\\.-]+\\\\)\"')\n",
    "\n",
    "        rows = []\n",
    "        number_records = 0\n",
    "        malformed_records = 0\n",
    "\n",
    "        for cur_line in tqdm(h_file):\n",
    "            cur_line = cur_line.strip()\n",
    "\n",
    "            if pattern_obj.match(cur_line) is None:\n",
    "                number_records += 1\n",
    "\n",
    "                cur_line = re.sub('\"location', '', cur_line)\n",
    "                cur_line = cur_line.rstrip(',')\n",
    "\n",
    "                row_dict = formatter_obj.format_row(cur_line)\n",
    "\n",
    "                if row_dict is None:\n",
    "                    malformed_records += 1\n",
    "                else:\n",
    "                    rows.append(list(row_dict.values()))\n",
    "\n",
    "    print(\"Dropped %.2f %% of BVN's\" %\n",
    "          (100 * malformed_records / number_records))\n",
    "\n",
    "    bvn_df = pd.DataFrame(rows, columns=columns)\n",
    "\n",
    "    return bvn_df.replace(\"NULL\", None, regex=True)"
   ]
  },
  {
   "cell_type": "markdown",
   "metadata": {},
   "source": [
    "## Load BVN dataset\n",
    "- Results suggest that less than 1% of the BVN records were dropped\n",
    "    - A record is dropped if a formatting error occurs  "
   ]
  },
  {
   "cell_type": "code",
   "execution_count": 432,
   "metadata": {},
   "outputs": [
    {
     "name": "stderr",
     "output_type": "stream",
     "text": [
      "784384it [00:13, 57664.58it/s]\n"
     ]
    },
    {
     "name": "stdout",
     "output_type": "stream",
     "text": [
      "Dropped 0.24 % of BVN's\n"
     ]
    }
   ],
   "source": [
    "df = initialize_bvn_df(csv_file)"
   ]
  },
  {
   "cell_type": "code",
   "execution_count": 420,
   "metadata": {},
   "outputs": [
    {
     "name": "stdout",
     "output_type": "stream",
     "text": [
      "(# of rows, # of columns): (391516, 39)\n"
     ]
    }
   ],
   "source": [
    "print(\"(# of rows, # of columns): (%d, %d)\" % (df.shape[0], df.shape[1]))"
   ]
  },
  {
   "cell_type": "code",
   "execution_count": 429,
   "metadata": {},
   "outputs": [
    {
     "data": {
      "text/plain": [
       "mailingaddressnonusacode         391471\n",
       "cleanupcost                      386834\n",
       "violationzipcode                 329556\n",
       "paymentamountsumofallpayments    188842\n",
       "mailingaddressstreetnumber         4874\n",
       "mailingaddresszipcode              3186\n",
       "fineamount                            2\n",
       "dtype: int64"
      ]
     },
     "execution_count": 429,
     "metadata": {},
     "output_type": "execute_result"
    }
   ],
   "source": [
    "missing_rows = df.isnull().sum(axis=0)\n",
    "missing_rows = missing_rows[missing_rows > 0]\n",
    "missing_rows = missing_rows.sort_values(ascending=False)\n",
    "missing_rows"
   ]
  },
  {
   "cell_type": "code",
   "execution_count": 431,
   "metadata": {},
   "outputs": [
    {
     "data": {
      "text/plain": [
       "mailingaddressnonusacode         99.988506\n",
       "cleanupcost                      98.804136\n",
       "violationzipcode                 84.174338\n",
       "paymentamountsumofallpayments    48.233533\n",
       "mailingaddressstreetnumber        1.244904\n",
       "mailingaddresszipcode             0.813760\n",
       "fineamount                        0.000511\n",
       "dtype: float64"
      ]
     },
     "execution_count": 431,
     "metadata": {},
     "output_type": "execute_result"
    }
   ],
   "source": [
    "percent_missing_rows = missing_rows * (100 / df.shape[0])\n",
    "percent_missing_rows"
   ]
  },
  {
   "cell_type": "markdown",
   "metadata": {},
   "source": [
    "## Remove columns with a large amount of missing data  \n",
    "-[Yiran Dong and Chao-Ying Joanne Peng \"Principled missing data methods for researchers\"](https://www.ncbi.nlm.nih.gov/pmc/articles/PMC3701793/)"
   ]
  },
  {
   "cell_type": "code",
   "execution_count": 436,
   "metadata": {},
   "outputs": [
    {
     "name": "stdout",
     "output_type": "stream",
     "text": [
      "['mailingaddressnonusacode', 'cleanupcost', 'violationzipcode', 'paymentamountsumofallpayments']\n"
     ]
    }
   ],
   "source": [
    "columns_to_drop = list(percent_missing_rows[percent_missing_rows > 10].index)\n",
    "print(columns_to_drop)\n",
    "df = df.filter([elem for elem in df.columns if elem not in columns_to_drop])"
   ]
  },
  {
   "cell_type": "code",
   "execution_count": 448,
   "metadata": {},
   "outputs": [
    {
     "data": {
      "text/plain": [
       "(391516,)"
      ]
     },
     "execution_count": 448,
     "metadata": {},
     "output_type": "execute_result"
    }
   ],
   "source": [
    "missing_columns = df.isnull().sum(axis=1)\n",
    "missing_columns.shape"
   ]
  }
 ],
 "metadata": {
  "kernelspec": {
   "display_name": "Python 3",
   "language": "python",
   "name": "python3"
  },
  "language_info": {
   "codemirror_mode": {
    "name": "ipython",
    "version": 3
   },
   "file_extension": ".py",
   "mimetype": "text/x-python",
   "name": "python",
   "nbconvert_exporter": "python",
   "pygments_lexer": "ipython3",
   "version": "3.7.0"
  }
 },
 "nbformat": 4,
 "nbformat_minor": 2
}
